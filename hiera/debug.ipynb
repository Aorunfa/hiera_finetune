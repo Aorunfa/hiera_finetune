{
 "cells": [
  {
   "cell_type": "code",
   "execution_count": 1,
   "metadata": {},
   "outputs": [],
   "source": [
    "import torch\n",
    "\n",
    "# 创建一个张量\n",
    "x = torch.tensor([1, 2, 3])\n",
    "\n",
    "# 重复这个张量\n",
    "# repeat_dims 是一个元组，表示每个维度上重复的次数\n",
    "repeat_dims = (2, 3)  # 表示在第0维（行）重复2次，在第1维（列）重复3次\n",
    "y = x.tile(2, 3)"
   ]
  },
  {
   "cell_type": "code",
   "execution_count": 2,
   "metadata": {},
   "outputs": [
    {
     "data": {
      "text/plain": [
       "torch.Size([2, 9])"
      ]
     },
     "execution_count": 2,
     "metadata": {},
     "output_type": "execute_result"
    }
   ],
   "source": [
    "y.shape"
   ]
  },
  {
   "cell_type": "code",
   "execution_count": 3,
   "metadata": {},
   "outputs": [
    {
     "data": {
      "text/plain": [
       "tensor([[1, 2, 3, 1, 2, 3, 1, 2, 3],\n",
       "        [1, 2, 3, 1, 2, 3, 1, 2, 3]])"
      ]
     },
     "execution_count": 3,
     "metadata": {},
     "output_type": "execute_result"
    }
   ],
   "source": [
    "y"
   ]
  },
  {
   "cell_type": "code",
   "execution_count": 3,
   "metadata": {},
   "outputs": [
    {
     "data": {
      "text/plain": [
       "torch.Size([3])"
      ]
     },
     "execution_count": 3,
     "metadata": {},
     "output_type": "execute_result"
    }
   ],
   "source": [
    "x.shape"
   ]
  },
  {
   "cell_type": "code",
   "execution_count": 4,
   "metadata": {},
   "outputs": [
    {
     "data": {
      "text/plain": [
       "torch.Size([1, 9])"
      ]
     },
     "execution_count": 4,
     "metadata": {},
     "output_type": "execute_result"
    }
   ],
   "source": [
    "y.shape"
   ]
  },
  {
   "cell_type": "code",
   "execution_count": 4,
   "metadata": {},
   "outputs": [
    {
     "data": {
      "text/plain": [
       "tensor([[1, 1, 2, 2, 3, 3, 1, 1, 2, 2, 3, 3, 1, 1, 2, 2, 3, 3],\n",
       "        [1, 1, 2, 2, 3, 3, 1, 1, 2, 2, 3, 3, 1, 1, 2, 2, 3, 3]])"
      ]
     },
     "execution_count": 4,
     "metadata": {},
     "output_type": "execute_result"
    }
   ],
   "source": [
    "torch.repeat_interleave(y, 2, dim=1)"
   ]
  },
  {
   "cell_type": "code",
   "execution_count": 1,
   "metadata": {},
   "outputs": [],
   "source": [
    "import pandas as pd"
   ]
  },
  {
   "cell_type": "code",
   "execution_count": 2,
   "metadata": {},
   "outputs": [],
   "source": [
    "df = pd.read_csv('/dev/shm/chaofeng/tiny_k400/tiny-kinetics-400/annotations/tiny_train.csv')"
   ]
  },
  {
   "cell_type": "code",
   "execution_count": 3,
   "metadata": {},
   "outputs": [
    {
     "data": {
      "text/html": [
       "<div>\n",
       "<style scoped>\n",
       "    .dataframe tbody tr th:only-of-type {\n",
       "        vertical-align: middle;\n",
       "    }\n",
       "\n",
       "    .dataframe tbody tr th {\n",
       "        vertical-align: top;\n",
       "    }\n",
       "\n",
       "    .dataframe thead th {\n",
       "        text-align: right;\n",
       "    }\n",
       "</style>\n",
       "<table border=\"1\" class=\"dataframe\">\n",
       "  <thead>\n",
       "    <tr style=\"text-align: right;\">\n",
       "      <th></th>\n",
       "      <th>label</th>\n",
       "      <th>youtube_id</th>\n",
       "      <th>time_start</th>\n",
       "      <th>time_end</th>\n",
       "      <th>split</th>\n",
       "      <th>is_cc</th>\n",
       "    </tr>\n",
       "  </thead>\n",
       "  <tbody>\n",
       "    <tr>\n",
       "      <th>0</th>\n",
       "      <td>abseiling</td>\n",
       "      <td>_4YTwq0-73Y</td>\n",
       "      <td>44</td>\n",
       "      <td>54</td>\n",
       "      <td>train</td>\n",
       "      <td>0</td>\n",
       "    </tr>\n",
       "    <tr>\n",
       "      <th>1</th>\n",
       "      <td>air drumming</td>\n",
       "      <td>_axE99QAhe8</td>\n",
       "      <td>26</td>\n",
       "      <td>36</td>\n",
       "      <td>train</td>\n",
       "      <td>0</td>\n",
       "    </tr>\n",
       "    <tr>\n",
       "      <th>2</th>\n",
       "      <td>answering questions</td>\n",
       "      <td>_5W9Fxl_dFE</td>\n",
       "      <td>186</td>\n",
       "      <td>196</td>\n",
       "      <td>train</td>\n",
       "      <td>0</td>\n",
       "    </tr>\n",
       "    <tr>\n",
       "      <th>3</th>\n",
       "      <td>applauding</td>\n",
       "      <td>_LHpfh0rXjk</td>\n",
       "      <td>12</td>\n",
       "      <td>22</td>\n",
       "      <td>train</td>\n",
       "      <td>0</td>\n",
       "    </tr>\n",
       "    <tr>\n",
       "      <th>4</th>\n",
       "      <td>applying cream</td>\n",
       "      <td>_-mM9e_yGog</td>\n",
       "      <td>67</td>\n",
       "      <td>77</td>\n",
       "      <td>train</td>\n",
       "      <td>0</td>\n",
       "    </tr>\n",
       "    <tr>\n",
       "      <th>...</th>\n",
       "      <td>...</td>\n",
       "      <td>...</td>\n",
       "      <td>...</td>\n",
       "      <td>...</td>\n",
       "      <td>...</td>\n",
       "      <td>...</td>\n",
       "    </tr>\n",
       "    <tr>\n",
       "      <th>395</th>\n",
       "      <td>wrestling</td>\n",
       "      <td>_UD2y2sBggc</td>\n",
       "      <td>26</td>\n",
       "      <td>36</td>\n",
       "      <td>train</td>\n",
       "      <td>0</td>\n",
       "    </tr>\n",
       "    <tr>\n",
       "      <th>396</th>\n",
       "      <td>writing</td>\n",
       "      <td>_FB-ZsEaM8I</td>\n",
       "      <td>240</td>\n",
       "      <td>250</td>\n",
       "      <td>train</td>\n",
       "      <td>0</td>\n",
       "    </tr>\n",
       "    <tr>\n",
       "      <th>397</th>\n",
       "      <td>yawning</td>\n",
       "      <td>_EJKz9eabr8</td>\n",
       "      <td>2</td>\n",
       "      <td>12</td>\n",
       "      <td>train</td>\n",
       "      <td>0</td>\n",
       "    </tr>\n",
       "    <tr>\n",
       "      <th>398</th>\n",
       "      <td>yoga</td>\n",
       "      <td>_efndh2U3Ng</td>\n",
       "      <td>26</td>\n",
       "      <td>36</td>\n",
       "      <td>train</td>\n",
       "      <td>0</td>\n",
       "    </tr>\n",
       "    <tr>\n",
       "      <th>399</th>\n",
       "      <td>zumba</td>\n",
       "      <td>_27IlPGsINY</td>\n",
       "      <td>26</td>\n",
       "      <td>36</td>\n",
       "      <td>train</td>\n",
       "      <td>0</td>\n",
       "    </tr>\n",
       "  </tbody>\n",
       "</table>\n",
       "<p>400 rows × 6 columns</p>\n",
       "</div>"
      ],
      "text/plain": [
       "                   label   youtube_id  time_start  time_end  split  is_cc\n",
       "0              abseiling  _4YTwq0-73Y          44        54  train      0\n",
       "1           air drumming  _axE99QAhe8          26        36  train      0\n",
       "2    answering questions  _5W9Fxl_dFE         186       196  train      0\n",
       "3             applauding  _LHpfh0rXjk          12        22  train      0\n",
       "4         applying cream  _-mM9e_yGog          67        77  train      0\n",
       "..                   ...          ...         ...       ...    ...    ...\n",
       "395            wrestling  _UD2y2sBggc          26        36  train      0\n",
       "396              writing  _FB-ZsEaM8I         240       250  train      0\n",
       "397              yawning  _EJKz9eabr8           2        12  train      0\n",
       "398                 yoga  _efndh2U3Ng          26        36  train      0\n",
       "399                zumba  _27IlPGsINY          26        36  train      0\n",
       "\n",
       "[400 rows x 6 columns]"
      ]
     },
     "execution_count": 3,
     "metadata": {},
     "output_type": "execute_result"
    }
   ],
   "source": [
    "df"
   ]
  },
  {
   "cell_type": "code",
   "execution_count": 1,
   "metadata": {},
   "outputs": [],
   "source": [
    "import numpy as np"
   ]
  },
  {
   "cell_type": "code",
   "execution_count": 4,
   "metadata": {},
   "outputs": [
    {
     "data": {
      "text/plain": [
       "1"
      ]
     },
     "execution_count": 4,
     "metadata": {},
     "output_type": "execute_result"
    }
   ],
   "source": [
    "np.random.randint(0, 10)"
   ]
  },
  {
   "cell_type": "code",
   "execution_count": 1,
   "metadata": {},
   "outputs": [],
   "source": [
    "import pandas as pd"
   ]
  },
  {
   "cell_type": "code",
   "execution_count": 7,
   "metadata": {},
   "outputs": [],
   "source": [
    "t = pd.read_csv('/dev/shm/chaofeng/tiny_k400/tiny-kinetics-400/annotations/tiny_train.csv')"
   ]
  },
  {
   "cell_type": "code",
   "execution_count": 4,
   "metadata": {},
   "outputs": [
    {
     "data": {
      "text/plain": [
       "400"
      ]
     },
     "execution_count": 4,
     "metadata": {},
     "output_type": "execute_result"
    }
   ],
   "source": [
    "t['label'].nunique()"
   ]
  },
  {
   "cell_type": "code",
   "execution_count": 6,
   "metadata": {},
   "outputs": [],
   "source": [
    "v = pd.read_csv('/dev/shm/chaofeng/tiny_k400/tiny-kinetics-400/annotations/tiny_val.csv')"
   ]
  },
  {
   "cell_type": "code",
   "execution_count": 8,
   "metadata": {},
   "outputs": [
    {
     "data": {
      "text/html": [
       "<div>\n",
       "<style scoped>\n",
       "    .dataframe tbody tr th:only-of-type {\n",
       "        vertical-align: middle;\n",
       "    }\n",
       "\n",
       "    .dataframe tbody tr th {\n",
       "        vertical-align: top;\n",
       "    }\n",
       "\n",
       "    .dataframe thead th {\n",
       "        text-align: right;\n",
       "    }\n",
       "</style>\n",
       "<table border=\"1\" class=\"dataframe\">\n",
       "  <thead>\n",
       "    <tr style=\"text-align: right;\">\n",
       "      <th></th>\n",
       "      <th>label</th>\n",
       "      <th>youtube_id</th>\n",
       "      <th>time_start</th>\n",
       "      <th>time_end</th>\n",
       "      <th>split</th>\n",
       "      <th>is_cc</th>\n",
       "    </tr>\n",
       "  </thead>\n",
       "  <tbody>\n",
       "    <tr>\n",
       "      <th>0</th>\n",
       "      <td>abseiling</td>\n",
       "      <td>-3B32lodo2M</td>\n",
       "      <td>59</td>\n",
       "      <td>69</td>\n",
       "      <td>val</td>\n",
       "      <td>0</td>\n",
       "    </tr>\n",
       "    <tr>\n",
       "      <th>1</th>\n",
       "      <td>air drumming</td>\n",
       "      <td>_dbcJuKJQNs</td>\n",
       "      <td>40</td>\n",
       "      <td>50</td>\n",
       "      <td>val</td>\n",
       "      <td>0</td>\n",
       "    </tr>\n",
       "    <tr>\n",
       "      <th>2</th>\n",
       "      <td>answering questions</td>\n",
       "      <td>_5PV4fkZisA</td>\n",
       "      <td>139</td>\n",
       "      <td>149</td>\n",
       "      <td>val</td>\n",
       "      <td>0</td>\n",
       "    </tr>\n",
       "    <tr>\n",
       "      <th>3</th>\n",
       "      <td>applauding</td>\n",
       "      <td>0Tq8uFakTbk</td>\n",
       "      <td>0</td>\n",
       "      <td>10</td>\n",
       "      <td>val</td>\n",
       "      <td>0</td>\n",
       "    </tr>\n",
       "    <tr>\n",
       "      <th>4</th>\n",
       "      <td>applying cream</td>\n",
       "      <td>-PBcrI7pXUM</td>\n",
       "      <td>24</td>\n",
       "      <td>34</td>\n",
       "      <td>val</td>\n",
       "      <td>0</td>\n",
       "    </tr>\n",
       "    <tr>\n",
       "      <th>...</th>\n",
       "      <td>...</td>\n",
       "      <td>...</td>\n",
       "      <td>...</td>\n",
       "      <td>...</td>\n",
       "      <td>...</td>\n",
       "      <td>...</td>\n",
       "    </tr>\n",
       "    <tr>\n",
       "      <th>395</th>\n",
       "      <td>wrestling</td>\n",
       "      <td>_UE4zEIVk80</td>\n",
       "      <td>41</td>\n",
       "      <td>51</td>\n",
       "      <td>val</td>\n",
       "      <td>0</td>\n",
       "    </tr>\n",
       "    <tr>\n",
       "      <th>396</th>\n",
       "      <td>writing</td>\n",
       "      <td>_b8GOY--jcM</td>\n",
       "      <td>55</td>\n",
       "      <td>65</td>\n",
       "      <td>val</td>\n",
       "      <td>0</td>\n",
       "    </tr>\n",
       "    <tr>\n",
       "      <th>397</th>\n",
       "      <td>yawning</td>\n",
       "      <td>_fAPaM5B7bE</td>\n",
       "      <td>21</td>\n",
       "      <td>31</td>\n",
       "      <td>val</td>\n",
       "      <td>0</td>\n",
       "    </tr>\n",
       "    <tr>\n",
       "      <th>398</th>\n",
       "      <td>yoga</td>\n",
       "      <td>_-aBlJFi7LY</td>\n",
       "      <td>7</td>\n",
       "      <td>17</td>\n",
       "      <td>val</td>\n",
       "      <td>0</td>\n",
       "    </tr>\n",
       "    <tr>\n",
       "      <th>399</th>\n",
       "      <td>zumba</td>\n",
       "      <td>_6VIemu6cZQ</td>\n",
       "      <td>47</td>\n",
       "      <td>57</td>\n",
       "      <td>val</td>\n",
       "      <td>0</td>\n",
       "    </tr>\n",
       "  </tbody>\n",
       "</table>\n",
       "<p>400 rows × 6 columns</p>\n",
       "</div>"
      ],
      "text/plain": [
       "                   label   youtube_id  time_start  time_end split  is_cc\n",
       "0              abseiling  -3B32lodo2M          59        69   val      0\n",
       "1           air drumming  _dbcJuKJQNs          40        50   val      0\n",
       "2    answering questions  _5PV4fkZisA         139       149   val      0\n",
       "3             applauding  0Tq8uFakTbk           0        10   val      0\n",
       "4         applying cream  -PBcrI7pXUM          24        34   val      0\n",
       "..                   ...          ...         ...       ...   ...    ...\n",
       "395            wrestling  _UE4zEIVk80          41        51   val      0\n",
       "396              writing  _b8GOY--jcM          55        65   val      0\n",
       "397              yawning  _fAPaM5B7bE          21        31   val      0\n",
       "398                 yoga  _-aBlJFi7LY           7        17   val      0\n",
       "399                zumba  _6VIemu6cZQ          47        57   val      0\n",
       "\n",
       "[400 rows x 6 columns]"
      ]
     },
     "execution_count": 8,
     "metadata": {},
     "output_type": "execute_result"
    }
   ],
   "source": [
    "v"
   ]
  },
  {
   "cell_type": "code",
   "execution_count": 10,
   "metadata": {},
   "outputs": [
    {
     "data": {
      "text/plain": [
       "[]"
      ]
     },
     "execution_count": 10,
     "metadata": {},
     "output_type": "execute_result"
    }
   ],
   "source": [
    "[i for i in t['youtube_id'] if i in v['youtube_id']]"
   ]
  },
  {
   "cell_type": "code",
   "execution_count": null,
   "metadata": {},
   "outputs": [],
   "source": []
  }
 ],
 "metadata": {
  "kernelspec": {
   "display_name": "tkh",
   "language": "python",
   "name": "python3"
  },
  "language_info": {
   "codemirror_mode": {
    "name": "ipython",
    "version": 3
   },
   "file_extension": ".py",
   "mimetype": "text/x-python",
   "name": "python",
   "nbconvert_exporter": "python",
   "pygments_lexer": "ipython3",
   "version": "3.10.15"
  }
 },
 "nbformat": 4,
 "nbformat_minor": 2
}
